{
 "cells": [
  {
   "cell_type": "markdown",
   "metadata": {},
   "source": [
    "## Gawron Comments\n",
    "\n",
    "This looks very good.  Good evaluation.  No comments on code, which is good."
   ]
  },
  {
   "cell_type": "markdown",
   "metadata": {
    "deletable": true,
    "editable": true
   },
   "source": [
    "# Sentiment Analysis for Amazon Reviews"
   ]
  },
  {
   "cell_type": "markdown",
   "metadata": {
    "deletable": true,
    "editable": true
   },
   "source": [
    "Our goal is to build a sentiment analysis model that predicts whether the customer liked products sold by Amazon or not, based on their reviews on Amazon. I have build a simple text classifier using Python’s Pandas, NLTK and Scikit-learn libraries."
   ]
  },
  {
   "cell_type": "markdown",
   "metadata": {
    "deletable": true,
    "editable": true
   },
   "source": [
    "## The Dataset Overview"
   ]
  },
  {
   "cell_type": "markdown",
   "metadata": {
    "deletable": true,
    "editable": true
   },
   "source": [
    "Amazon Reviews dataset was taken from Kaggle website(https://www.kaggle.com/bittlingmayer/amazonreviews).\n",
    "\n",
    "This dataset consists of a few million Amazon customer reviews (input text) and star ratings (output labels) for sentiment analysis.\n",
    "\n",
    "In this case, the classes are __label__1 and __label__2, and there is only one class per row.\n",
    "\n",
    "__label__1 corresponds to 1- and 2-star reviews\n",
    "__label__2 corresponds to 4- and 5-star reviews.\n",
    "\n",
    "**Note** : (3-star reviews i.e. reviews with neutral sentiment were not included in the original)\n",
    "\n",
    "This dataset had training set and test set provided by the data collector.\n",
    "\n",
    "\n",
    "Training Set: 3.6M text reviews and ratings for training -> 1800000 reviews of label 1 and 1800000 reviews of label 2\n",
    "\n",
    "Testing Set: 400K text reviews and ratings for testing -> 200000 reviews of label 1 and 200000 records for label 2"
   ]
  },
  {
   "cell_type": "markdown",
   "metadata": {
    "deletable": true,
    "editable": true
   },
   "source": [
    "## Initial Cleaning\n",
    "\n",
    "Because of the huge volume of the reviews in both training and test set and limited processing capability of my computer, it was taking long time to process and model on entire dataset. \n",
    "\n",
    "Hence, I have selected a subset from training and test set in order to complete this project on time. \n",
    "\n",
    "Training set consists of 10,000 reviews for label 1 and 10,000 reviews for label 2.\n",
    "\n",
    "Testing set consists of 5000 reviews for label 1 and 5000 reviews for label 2.\n",
    "\n",
    "Also, to avoid confusion between __label 1__ and __label 2__, I have recoded them as __neg__ and  __pos__ respectively.\n"
   ]
  },
  {
   "cell_type": "markdown",
   "metadata": {
    "deletable": true,
    "editable": true
   },
   "source": [
    "## Importing the Dataset"
   ]
  },
  {
   "cell_type": "markdown",
   "metadata": {
    "deletable": true,
    "editable": true
   },
   "source": [
    "Firstly, let’s import the necessary Python libraries. \n",
    "\n",
    "NLTK is pretty much the standard library in Python library for text processing, which has many useful features. For this project, I will just use NLTK for stopword removal."
   ]
  },
  {
   "cell_type": "code",
   "execution_count": 116,
   "metadata": {
    "collapsed": true,
    "deletable": true,
    "editable": true
   },
   "outputs": [],
   "source": [
    "import pandas as pd\n",
    "import numpy as np\n",
    "import matplotlib.pyplot as plt\n",
    "import seaborn as sns\n",
    "%matplotlib inline\n",
    "\n",
    "from sklearn.feature_extraction.text import CountVectorizer\n",
    "#from sklearn.feature_extraction.text import TfidfTransformer\n",
    "\n",
    "from sklearn.naive_bayes import MultinomialNB, BernoulliNB\n",
    "from sklearn.metrics import confusion_matrix, classification_report\n",
    "from sklearn.linear_model import LogisticRegression\n",
    "from sklearn.svm import SVC, LinearSVC\n",
    "from sklearn import metrics\n",
    "\n",
    "\n",
    "import nltk\n",
    "from nltk.corpus import stopwords"
   ]
  },
  {
   "cell_type": "markdown",
   "metadata": {
    "deletable": true,
    "editable": true
   },
   "source": [
    "Next, importing Amazon reviews csv files of training and test set and storing these files in a Pandas dataframe called __train_data__ and __test_data__"
   ]
  },
  {
   "cell_type": "code",
   "execution_count": 40,
   "metadata": {
    "collapsed": true,
    "deletable": true,
    "editable": true
   },
   "outputs": [],
   "source": [
    "#importing Amazon reviews which is stored in csv file and storing it in Pandas dataframe\n",
    "\n",
    "train_data = pd.read_csv(\"train_neg_pos.csv\")\n",
    "test_data = pd.read_csv(\"test_neg_pos.csv\")"
   ]
  },
  {
   "cell_type": "markdown",
   "metadata": {
    "deletable": true,
    "editable": true
   },
   "source": [
    "Looking at some basic information about the data."
   ]
  },
  {
   "cell_type": "code",
   "execution_count": 4,
   "metadata": {
    "collapsed": false,
    "deletable": true,
    "editable": true
   },
   "outputs": [
    {
     "name": "stdout",
     "output_type": "stream",
     "text": [
      "<class 'pandas.core.frame.DataFrame'>\n",
      "RangeIndex: 20000 entries, 0 to 19999\n",
      "Data columns (total 2 columns):\n",
      "sentiment    20000 non-null object\n",
      "review       20000 non-null object\n",
      "dtypes: object(2)\n",
      "memory usage: 312.6+ KB\n",
      "None\n",
      "<class 'pandas.core.frame.DataFrame'>\n",
      "RangeIndex: 10000 entries, 0 to 9999\n",
      "Data columns (total 2 columns):\n",
      "sentiment    10000 non-null object\n",
      "review       10000 non-null object\n",
      "dtypes: object(2)\n",
      "memory usage: 156.3+ KB\n",
      "None\n"
     ]
    }
   ],
   "source": [
    "# Using method .info()\n",
    "\n",
    "print train_data.info()\n",
    "print test_data.info()"
   ]
  },
  {
   "cell_type": "code",
   "execution_count": 5,
   "metadata": {
    "collapsed": false,
    "deletable": true,
    "editable": true
   },
   "outputs": [
    {
     "name": "stdout",
     "output_type": "stream",
     "text": [
      "(20000, 2)\n",
      "(10000, 2)\n"
     ]
    }
   ],
   "source": [
    "# using method .shape to see the number of rows and columns in the dataframe\n",
    "print train_data.shape\n",
    "print test_data.shape"
   ]
  },
  {
   "cell_type": "code",
   "execution_count": 6,
   "metadata": {
    "collapsed": false,
    "deletable": true,
    "editable": true
   },
   "outputs": [
    {
     "name": "stdout",
     "output_type": "stream",
     "text": [
      "  sentiment                                             review\n",
      "0       neg   Good tea/cheap chest: The tea assortment in t...\n",
      "1       pos   Good program with nice graphics: I was able t...\n",
      "2       neg   bloody awful: sounds like a third world eleme...\n",
      "3       pos   An interesting toy: I saw this toy in Delhi b...\n",
      "4       pos   The best album I've ever heard: I can't under...\n",
      "  sentiment                                             review\n",
      "0       neg   A Lite Alternative: Songs like \"Follow My Way...\n",
      "1       pos   F 451 shows how dangerous a person's ideas ar...\n",
      "2       neg   Popping noise: Just bought these yesterday an...\n",
      "3       neg   Defected Book!: 1 star because the book was d...\n",
      "4       pos   A real suprise find at my public library: Jus...\n"
     ]
    }
   ],
   "source": [
    "# using method .head() to see the top 5 entries of the dataframe\n",
    "print train_data.head()\n",
    "print test_data.head()"
   ]
  },
  {
   "cell_type": "code",
   "execution_count": 7,
   "metadata": {
    "collapsed": false,
    "deletable": true,
    "editable": true
   },
   "outputs": [
    {
     "name": "stdout",
     "output_type": "stream",
     "text": [
      "pos    10000\n",
      "neg    10000\n",
      "Name: sentiment, dtype: int64\n",
      "pos    5000\n",
      "neg    5000\n",
      "Name: sentiment, dtype: int64\n"
     ]
    }
   ],
   "source": [
    "#let's count how many labels do we have for each sentiment class in training and test. Though, checking test set is not required\n",
    "print train_data.sentiment.value_counts()\n",
    "print test_data.sentiment.value_counts()"
   ]
  },
  {
   "cell_type": "markdown",
   "metadata": {
    "deletable": true,
    "editable": true
   },
   "source": [
    "To get an insight on the length of each review, we can create a new column in train_data called text length. This column will store the number of characters in each review."
   ]
  },
  {
   "cell_type": "code",
   "execution_count": 8,
   "metadata": {
    "collapsed": false,
    "deletable": true,
    "editable": true
   },
   "outputs": [
    {
     "data": {
      "text/html": [
       "<div>\n",
       "<style>\n",
       "    .dataframe thead tr:only-child th {\n",
       "        text-align: right;\n",
       "    }\n",
       "\n",
       "    .dataframe thead th {\n",
       "        text-align: left;\n",
       "    }\n",
       "\n",
       "    .dataframe tbody tr th {\n",
       "        vertical-align: top;\n",
       "    }\n",
       "</style>\n",
       "<table border=\"1\" class=\"dataframe\">\n",
       "  <thead>\n",
       "    <tr style=\"text-align: right;\">\n",
       "      <th></th>\n",
       "      <th>sentiment</th>\n",
       "      <th>review</th>\n",
       "      <th>text length</th>\n",
       "    </tr>\n",
       "  </thead>\n",
       "  <tbody>\n",
       "    <tr>\n",
       "      <th>0</th>\n",
       "      <td>neg</td>\n",
       "      <td>Good tea/cheap chest: The tea assortment in t...</td>\n",
       "      <td>254</td>\n",
       "    </tr>\n",
       "    <tr>\n",
       "      <th>1</th>\n",
       "      <td>pos</td>\n",
       "      <td>Good program with nice graphics: I was able t...</td>\n",
       "      <td>457</td>\n",
       "    </tr>\n",
       "    <tr>\n",
       "      <th>2</th>\n",
       "      <td>neg</td>\n",
       "      <td>bloody awful: sounds like a third world eleme...</td>\n",
       "      <td>248</td>\n",
       "    </tr>\n",
       "    <tr>\n",
       "      <th>3</th>\n",
       "      <td>pos</td>\n",
       "      <td>An interesting toy: I saw this toy in Delhi b...</td>\n",
       "      <td>349</td>\n",
       "    </tr>\n",
       "    <tr>\n",
       "      <th>4</th>\n",
       "      <td>pos</td>\n",
       "      <td>The best album I've ever heard: I can't under...</td>\n",
       "      <td>421</td>\n",
       "    </tr>\n",
       "  </tbody>\n",
       "</table>\n",
       "</div>"
      ],
      "text/plain": [
       "  sentiment                                             review  text length\n",
       "0       neg   Good tea/cheap chest: The tea assortment in t...          254\n",
       "1       pos   Good program with nice graphics: I was able t...          457\n",
       "2       neg   bloody awful: sounds like a third world eleme...          248\n",
       "3       pos   An interesting toy: I saw this toy in Delhi b...          349\n",
       "4       pos   The best album I've ever heard: I can't under...          421"
      ]
     },
     "execution_count": 8,
     "metadata": {},
     "output_type": "execute_result"
    }
   ],
   "source": [
    "train_data['text length'] = train_data['review'].apply(len)\n",
    "train_data.head()"
   ]
  },
  {
   "cell_type": "markdown",
   "metadata": {
    "deletable": true,
    "editable": true
   },
   "source": [
    "In the above cell, we can see the text length column in which was added in train_data"
   ]
  },
  {
   "cell_type": "markdown",
   "metadata": {
    "deletable": true,
    "editable": true
   },
   "source": [
    "## Exploring the dataset"
   ]
  },
  {
   "cell_type": "markdown",
   "metadata": {
    "deletable": true,
    "editable": true
   },
   "source": [
    "Visualising the data a little more by plotting some graphs with the Seaborn library.\n",
    "\n",
    "Seaborn is a Python visualization library based on matplotlib. It provides a high-level interface for drawing attractive statistical graphics.\n",
    "\n",
    "Seaborn’s FacetGrid allows us to create a grid of histograms placed side by side.\n",
    "\n",
    "I am using FacetGrid to see if there’s any relationship between our newly created `text length` feature and the `stars` rating."
   ]
  },
  {
   "cell_type": "code",
   "execution_count": 13,
   "metadata": {
    "collapsed": false,
    "deletable": true,
    "editable": true
   },
   "outputs": [
    {
     "data": {
      "text/plain": [
       "<seaborn.axisgrid.FacetGrid at 0x11b65828>"
      ]
     },
     "execution_count": 13,
     "metadata": {},
     "output_type": "execute_result"
    },
    {
     "data": {
      "image/png": "[encoded data removed]",
      "text/plain": [
       "<matplotlib.figure.Figure at 0x11b73320>"
      ]
     },
     "metadata": {},
     "output_type": "display_data"
    }
   ],
   "source": [
    "g = sns.FacetGrid(data=train_data, col='sentiment')\n",
    "g.map(plt.hist, 'text length', bins=50)"
   ]
  },
  {
   "cell_type": "markdown",
   "metadata": {
    "deletable": true,
    "editable": true
   },
   "source": [
    "From the above graph we can see that, the distribution of text length is similar across both positive and negative sentiments. "
   ]
  },
  {
   "cell_type": "markdown",
   "metadata": {
    "deletable": true,
    "editable": true
   },
   "source": [
    "Next, I have plotted a box plot of the `text length` for each `sentiment`"
   ]
  },
  {
   "cell_type": "code",
   "execution_count": 14,
   "metadata": {
    "collapsed": false,
    "deletable": true,
    "editable": true
   },
   "outputs": [
    {
     "data": {
      "text/plain": [
       "<matplotlib.axes._subplots.AxesSubplot at 0x11f90fd0>"
      ]
     },
     "execution_count": 14,
     "metadata": {},
     "output_type": "execute_result"
    },
    {
     "data": {
      "image/png": "[encoded data removed]",
      "text/plain": [
       "<matplotlib.figure.Figure at 0x11d68588>"
      ]
     },
     "metadata": {},
     "output_type": "display_data"
    }
   ],
   "source": [
    "sns.boxplot(x='sentiment', y='text length', data=train_data)"
   ]
  },
  {
   "cell_type": "markdown",
   "metadata": {
    "deletable": true,
    "editable": true
   },
   "source": [
    "From the above graph we can observe that the postive and negative sentiments have longer text."
   ]
  },
  {
   "cell_type": "markdown",
   "metadata": {
    "deletable": true,
    "editable": true
   },
   "source": [
    "## Independent and dependent variables\n",
    "\n",
    "Next, let’s create the X and y for our classification task. X will be the review column of train_data, and y will be the sentiment column."
   ]
  },
  {
   "cell_type": "code",
   "execution_count": 41,
   "metadata": {
    "collapsed": true,
    "deletable": true,
    "editable": true
   },
   "outputs": [],
   "source": [
    "X = train_data['review']\n",
    "y = train_data['sentiment']"
   ]
  },
  {
   "cell_type": "markdown",
   "metadata": {
    "deletable": true,
    "editable": true
   },
   "source": [
    "## Text pre-processing"
   ]
  },
  {
   "cell_type": "markdown",
   "metadata": {
    "deletable": true,
    "editable": true
   },
   "source": [
    "Since our data is in plain-text format, we face an issue.\n",
    "\n",
    "The classification algorithm will need some sort of feature vector in order to perform the classification task. The simplest way to convert a corpus to a vector format is the bag-of-words approach, where each unique word in a text will be represented by one number."
   ]
  },
  {
   "cell_type": "markdown",
   "metadata": {
    "deletable": true,
    "editable": true
   },
   "source": [
    "First, let’s write a function that will split the review into its individual words, and return a list. \n",
    "\n",
    "We will also remove the very common words (such as “the”, “a”, “an”, etc.), also known as stopwords. To do this, we can take advantage of the NLTK library. The function below removes punctuation, stopwords, and returns a list of the remaining words, or tokens."
   ]
  },
  {
   "cell_type": "code",
   "execution_count": 42,
   "metadata": {
    "collapsed": false,
    "deletable": true,
    "editable": true
   },
   "outputs": [
    {
     "data": {
      "text/plain": [
       "' Good tea/cheap chest: The tea assortment in the chest is excellent, vey tasty. However, the chest is very poorly put together. The applique material does not line up and there are numerous rough edges. Not wht I would want to display on the countertop.\\n'"
      ]
     },
     "execution_count": 42,
     "metadata": {},
     "output_type": "execute_result"
    }
   ],
   "source": [
    "X[0]"
   ]
  },
  {
   "cell_type": "code",
   "execution_count": 43,
   "metadata": {
    "collapsed": false,
    "deletable": true,
    "editable": true
   },
   "outputs": [
    {
     "name": "stdout",
     "output_type": "stream",
     "text": [
      "['Hey', 'sample', 'review', 'happens', 'contain', 'punctuations']\n"
     ]
    }
   ],
   "source": [
    "import string\n",
    "\n",
    "def text_process(text):\n",
    "    '''\n",
    "    This function takes in a string of text and then performs the following tasks:\n",
    "    1. Remove all puncutations\n",
    "    2. Remove all stopwords\n",
    "    3. Return cleaned text as list of words\n",
    "    '''\n",
    "    nopunc = [char for char in text if char not in string.punctuation]\n",
    "    \n",
    "    nopunc = ''.join(nopunc)\n",
    "    \n",
    "    return [word for word in nopunc.split() if word.lower() not in stopwords.words('english')]\n",
    "\n",
    "#  Checking if the function works correctly\n",
    "sample_text = \"Hey there! This is a sample review, which happens to contain punctuations.\"\n",
    "print(text_process(sample_text))"
   ]
  },
  {
   "cell_type": "markdown",
   "metadata": {
    "deletable": true,
    "editable": true
   },
   "source": [
    "## Vectorization"
   ]
  },
  {
   "cell_type": "markdown",
   "metadata": {
    "deletable": true,
    "editable": true
   },
   "source": [
    "To enable Scikit-learn algorithms to work on our text, we need to convert each review into a vector.\n",
    "\n",
    "We can use Scikit-learn’s CountVectorizer to convert the text collection into a matrix of token counts.\n",
    "\n",
    "Since there are many reviews, we can expect a lot of zero counts for the presence of a word in the collection. Because of this, Scikit-learn will output a __sparse matrix__."
   ]
  },
  {
   "cell_type": "markdown",
   "metadata": {
    "deletable": true,
    "editable": true
   },
   "source": [
    "Let’s import CountVectorizer and passing in our text_process function as the analyser."
   ]
  },
  {
   "cell_type": "code",
   "execution_count": 44,
   "metadata": {
    "collapsed": true,
    "deletable": true,
    "editable": true
   },
   "outputs": [],
   "source": [
    "bow_transformer = CountVectorizer(analyzer = text_process)"
   ]
  },
  {
   "cell_type": "markdown",
   "metadata": {
    "deletable": true,
    "editable": true
   },
   "source": [
    "Fitting an instance to our review text (stored in X) and transforming our X dataframe into a sparse matrix. To do this, let’s use the .fit_transform() method on our bag-of-words transformed object."
   ]
  },
  {
   "cell_type": "code",
   "execution_count": 45,
   "metadata": {
    "collapsed": false,
    "deletable": true,
    "editable": true
   },
   "outputs": [
    {
     "name": "stderr",
     "output_type": "stream",
     "text": [
      "C:\\Users\\Nikita\\Anaconda2\\lib\\site-packages\\ipykernel_launcher.py:14: UnicodeWarning: Unicode equal comparison failed to convert both arguments to Unicode - interpreting them as being unequal\n",
      "  \n"
     ]
    }
   ],
   "source": [
    "# # applying the Count Vectorizer function on training set\n",
    "X = bow_transformer.fit_transform(X)"
   ]
  },
  {
   "cell_type": "markdown",
   "metadata": {
    "deletable": true,
    "editable": true
   },
   "source": [
    "We can check out the shape of our new X."
   ]
  },
  {
   "cell_type": "code",
   "execution_count": 46,
   "metadata": {
    "collapsed": false,
    "deletable": true,
    "editable": true
   },
   "outputs": [
    {
     "name": "stdout",
     "output_type": "stream",
     "text": [
      "('Shape of Sparse Matrix: ', (20000, 75112))\n",
      "('Amount of Non-Zero occurrences: ', 724847)\n",
      "Density: 0.0482510783896\n"
     ]
    }
   ],
   "source": [
    "print('Shape of Sparse Matrix: ', X.shape)\n",
    "print('Amount of Non-Zero occurrences: ', X.nnz)\n",
    "\n",
    "# Percentage of non-zero values\n",
    "density = (100.0 * X.nnz / (X.shape[0] * X.shape[1]))\n",
    "print(\"Density: {}\".format((density)))"
   ]
  },
  {
   "cell_type": "code",
   "execution_count": 47,
   "metadata": {
    "collapsed": false,
    "deletable": true,
    "editable": true
   },
   "outputs": [
    {
     "name": "stderr",
     "output_type": "stream",
     "text": [
      "C:\\Users\\Nikita\\Anaconda2\\lib\\site-packages\\ipykernel_launcher.py:14: UnicodeWarning: Unicode equal comparison failed to convert both arguments to Unicode - interpreting them as being unequal\n",
      "  \n"
     ]
    },
    {
     "name": "stdout",
     "output_type": "stream",
     "text": [
      "('Shape of Sparse Matrix: ', (10000, 75112))\n",
      "('Amount of Non-Zero occurrences: ', 338984)\n",
      "Density: 0.0451304718287\n"
     ]
    }
   ],
   "source": [
    "X_test = test_data['review']\n",
    "y_test = test_data['sentiment']\n",
    "\n",
    "# applying the Count Vectorizer function on test set\n",
    "X_test = bow_transformer.transform(X_test)\n",
    "\n",
    "print('Shape of Sparse Matrix: ', X_test.shape)\n",
    "print('Amount of Non-Zero occurrences: ', X_test.nnz)\n",
    "\n",
    "# Percentage of non-zero values\n",
    "density = (100.0 * X_test.nnz / (X_test.shape[0] * X_test.shape[1]))\n",
    "print(\"Density: {}\".format((density)))"
   ]
  },
  {
   "cell_type": "markdown",
   "metadata": {
    "deletable": true,
    "editable": true
   },
   "source": [
    "## To evaluate the models performance"
   ]
  },
  {
   "cell_type": "markdown",
   "metadata": {
    "deletable": true,
    "editable": true
   },
   "source": [
    "I have included below function to evaluate models performance based on precision, recall and accuracy provided by the model."
   ]
  },
  {
   "cell_type": "code",
   "execution_count": 50,
   "metadata": {
    "collapsed": true,
    "deletable": true,
    "editable": true
   },
   "outputs": [],
   "source": [
    "from sklearn.metrics import precision_score, recall_score,accuracy_score\n",
    "\n",
    "def do_evaluation (pairs, pos_label='pos', verbose=True):\n",
    "    predicted, actual = zip(*pairs)\n",
    "    (precision, recall,accuracy) = (precision_score(actual,predicted,pos_label=pos_label),\n",
    "                                    recall_score(actual,predicted,pos_label=pos_label),\n",
    "                                    accuracy_score(actual,predicted))\n",
    "    if verbose:\n",
    "        print_results(precision, recall, accuracy, pos_label)\n",
    "    return (precision, recall,accuracy)\n",
    "\n",
    "def print_results (precision, recall, accuracy, pos_label):\n",
    "    banner =  'Evaluation with pos label = %s' % pos_label\n",
    "    print\n",
    "    print banner\n",
    "    print '=' * len(banner)\n",
    "    print '{0:10s} {1:.1f}'.format('Precision',precision*100)\n",
    "    print '{0:10s} {1:.1f}'.format('Recall',recall*100)\n",
    "    print '{0:10s} {1:.1f}'.format('Accuracy',accuracy*100)"
   ]
  },
  {
   "cell_type": "markdown",
   "metadata": {
    "deletable": true,
    "editable": true
   },
   "source": [
    "## Training our Model - Multinomial Naive Bayes Classifier"
   ]
  },
  {
   "cell_type": "code",
   "execution_count": 129,
   "metadata": {
    "collapsed": false,
    "deletable": true,
    "editable": true
   },
   "outputs": [
    {
     "data": {
      "text/plain": [
       "MultinomialNB(alpha=1.0, class_prior=None, fit_prior=True)"
      ]
     },
     "execution_count": 129,
     "metadata": {},
     "output_type": "execute_result"
    }
   ],
   "source": [
    "nb = MultinomialNB()\n",
    "nb.fit(X, y)"
   ]
  },
  {
   "cell_type": "markdown",
   "metadata": {
    "deletable": true,
    "editable": true
   },
   "source": [
    "## Testing and Evaluating Multinomial Naive Bayes Classifier Model"
   ]
  },
  {
   "cell_type": "code",
   "execution_count": 130,
   "metadata": {
    "collapsed": false,
    "deletable": true,
    "editable": true
   },
   "outputs": [
    {
     "name": "stdout",
     "output_type": "stream",
     "text": [
      "[[4212  788]\n",
      " [ 895 4105]]\n",
      "\n",
      "\n",
      "Note that 48.9% of our classifier guesses were positive\n",
      "While 50.0% of the reviews were actually positive\n",
      "\n",
      "Evaluation with pos label = pos\n",
      "===============================\n",
      "Precision  83.9\n",
      "Recall     82.1\n",
      "Accuracy   83.2\n",
      "\n",
      "Evaluation with pos label = neg\n",
      "===============================\n",
      "Precision  82.5\n",
      "Recall     84.2\n",
      "Accuracy   83.2\n"
     ]
    },
    {
     "data": {
      "text/plain": [
       "(0.8247503426669277, 0.84240000000000004, 0.83169999999999999)"
      ]
     },
     "execution_count": 130,
     "metadata": {},
     "output_type": "execute_result"
    }
   ],
   "source": [
    "preds = nb.predict(X_test)\n",
    "\n",
    "print(confusion_matrix(y_test, preds))\n",
    "print('\\n')\n",
    "\n",
    "#print predicted_labels\n",
    "pos_guesses = [p for p in preds if p== 'pos']\n",
    "pos_actual = [p for p in y_test if p== 'pos']\n",
    "print 'Note that {:.1%} of our classifier guesses were positive'.format(float(len(pos_guesses))/len(y_test))\n",
    "print 'While {:.1%} of the reviews were actually positive'.format(float(len(pos_actual))/len(y_test))\n",
    "do_evaluation (zip(preds,y_test), pos_label= 'pos', verbose=True)\n",
    "do_evaluation (zip(preds,y_test), pos_label= 'neg', verbose=True)"
   ]
  },
  {
   "cell_type": "markdown",
   "metadata": {
    "deletable": true,
    "editable": true
   },
   "source": [
    "## Training our Model - Bernoulli Naive Bayes Classifier"
   ]
  },
  {
   "cell_type": "code",
   "execution_count": 131,
   "metadata": {
    "collapsed": false,
    "deletable": true,
    "editable": true
   },
   "outputs": [
    {
     "data": {
      "text/plain": [
       "BernoulliNB(alpha=1.0, binarize=0.0, class_prior=None, fit_prior=True)"
      ]
     },
     "execution_count": 131,
     "metadata": {},
     "output_type": "execute_result"
    }
   ],
   "source": [
    "bnb =BernoulliNB()\n",
    "bnb.fit(X, y)"
   ]
  },
  {
   "cell_type": "markdown",
   "metadata": {
    "deletable": true,
    "editable": true
   },
   "source": [
    "## Testing and Evaluating Bernoulli Naive Bayes Classifier"
   ]
  },
  {
   "cell_type": "code",
   "execution_count": 132,
   "metadata": {
    "collapsed": false,
    "deletable": true,
    "editable": true
   },
   "outputs": [
    {
     "name": "stdout",
     "output_type": "stream",
     "text": [
      "[[4108  892]\n",
      " [ 696 4304]]\n",
      "\n",
      "\n",
      "Note that 52.0% of our classifier guesses were positive\n",
      "While 50.0% of the reviews were actually positive\n",
      "\n",
      "Evaluation with pos label = pos\n",
      "===============================\n",
      "Precision  82.8\n",
      "Recall     86.1\n",
      "Accuracy   84.1\n",
      "\n",
      "Evaluation with pos label = neg\n",
      "===============================\n",
      "Precision  85.5\n",
      "Recall     82.2\n",
      "Accuracy   84.1\n"
     ]
    },
    {
     "data": {
      "text/plain": [
       "(0.85512073272273104, 0.8216, 0.84119999999999995)"
      ]
     },
     "execution_count": 132,
     "metadata": {},
     "output_type": "execute_result"
    }
   ],
   "source": [
    "preds_bnb = bnb.predict(X_test)\n",
    "\n",
    "print(confusion_matrix(y_test, preds_bnb))\n",
    "print('\\n')\n",
    "\n",
    "#print predicted_labels\n",
    "pos_guesses = [p for p in preds_bnb if p== 'pos']\n",
    "pos_actual = [p for p in y_test if p== 'pos']\n",
    "print 'Note that {:.1%} of our classifier guesses were positive'.format(float(len(pos_guesses))/len(y_test))\n",
    "print 'While {:.1%} of the reviews were actually positive'.format(float(len(pos_actual))/len(y_test))\n",
    "do_evaluation (zip(preds_bnb,y_test), pos_label= 'pos', verbose=True)\n",
    "do_evaluation (zip(preds_bnb,y_test), pos_label= 'neg', verbose=True)"
   ]
  },
  {
   "cell_type": "markdown",
   "metadata": {
    "deletable": true,
    "editable": true
   },
   "source": [
    "## Training our Model - Linear Support Vector Classifier"
   ]
  },
  {
   "cell_type": "code",
   "execution_count": 133,
   "metadata": {
    "collapsed": false,
    "deletable": true,
    "editable": true
   },
   "outputs": [
    {
     "data": {
      "text/plain": [
       "LinearSVC(C=1.0, class_weight=None, dual=True, fit_intercept=True,\n",
       "     intercept_scaling=1, loss='squared_hinge', max_iter=1000,\n",
       "     multi_class='ovr', penalty='l2', random_state=None, tol=0.0001,\n",
       "     verbose=0)"
      ]
     },
     "execution_count": 133,
     "metadata": {},
     "output_type": "execute_result"
    }
   ],
   "source": [
    "linearsvc = LinearSVC()\n",
    "linearsvc.fit(X,y)"
   ]
  },
  {
   "cell_type": "markdown",
   "metadata": {
    "deletable": true,
    "editable": true
   },
   "source": [
    "## Testing and Evaluating Linear Support Vector Classifier"
   ]
  },
  {
   "cell_type": "code",
   "execution_count": 134,
   "metadata": {
    "collapsed": false,
    "deletable": true,
    "editable": true
   },
   "outputs": [
    {
     "name": "stdout",
     "output_type": "stream",
     "text": [
      "[[4090  910]\n",
      " [ 752 4248]]\n",
      "\n",
      "\n",
      "Note that 51.6% of our classifier guesses were positive\n",
      "While 50.0% of the reviews were actually positive\n",
      "\n",
      "Evaluation with pos label = pos\n",
      "===============================\n",
      "Precision  82.4\n",
      "Recall     85.0\n",
      "Accuracy   83.4\n",
      "\n",
      "Evaluation with pos label = neg\n",
      "===============================\n",
      "Precision  84.5\n",
      "Recall     81.8\n",
      "Accuracy   83.4\n"
     ]
    },
    {
     "data": {
      "text/plain": [
       "(0.84469227591904172, 0.81799999999999995, 0.83379999999999999)"
      ]
     },
     "execution_count": 134,
     "metadata": {},
     "output_type": "execute_result"
    }
   ],
   "source": [
    "preds_linearsvc = linearsvc.predict(X_test)\n",
    "\n",
    "print(confusion_matrix(y_test, preds_linearsvc))\n",
    "print('\\n')\n",
    "#print(classification_report(y_test, preds_linearsvc))\n",
    "\n",
    "pos_guesses = [p for p in preds_linearsvc if p== 'pos']\n",
    "pos_actual = [p for p in y_test if p== 'pos']\n",
    "print 'Note that {:.1%} of our classifier guesses were positive'.format(float(len(pos_guesses))/len(y_test))\n",
    "print 'While {:.1%} of the reviews were actually positive'.format(float(len(pos_actual))/len(y_test))\n",
    "do_evaluation (zip(preds_linearsvc,y_test), pos_label= 'pos', verbose=True)\n",
    "do_evaluation (zip(preds_linearsvc,y_test), pos_label= 'neg', verbose=True)"
   ]
  },
  {
   "cell_type": "markdown",
   "metadata": {
    "deletable": true,
    "editable": true
   },
   "source": [
    "## Training our Model - Logistic Regression Classifier"
   ]
  },
  {
   "cell_type": "code",
   "execution_count": 135,
   "metadata": {
    "collapsed": false,
    "deletable": true,
    "editable": true
   },
   "outputs": [
    {
     "data": {
      "text/plain": [
       "LogisticRegression(C=1.0, class_weight=None, dual=False, fit_intercept=True,\n",
       "          intercept_scaling=1, max_iter=100, multi_class='ovr', n_jobs=1,\n",
       "          penalty='l2', random_state=None, solver='liblinear', tol=0.0001,\n",
       "          verbose=0, warm_start=False)"
      ]
     },
     "execution_count": 135,
     "metadata": {},
     "output_type": "execute_result"
    }
   ],
   "source": [
    "logreg = LogisticRegression()\n",
    "logreg.fit(X,y)"
   ]
  },
  {
   "cell_type": "markdown",
   "metadata": {
    "deletable": true,
    "editable": true
   },
   "source": [
    "## Testing and Evaluating Logistic Regression Model"
   ]
  },
  {
   "cell_type": "code",
   "execution_count": 136,
   "metadata": {
    "collapsed": false,
    "deletable": true,
    "editable": true
   },
   "outputs": [
    {
     "name": "stdout",
     "output_type": "stream",
     "text": [
      "[[4205  795]\n",
      " [ 662 4338]]\n",
      "\n",
      "\n",
      "Note that 51.3% of our classifier guesses were positive\n",
      "While 50.0% of the reviews were actually positive\n",
      "\n",
      "Evaluation with pos label = pos\n",
      "===============================\n",
      "Precision  84.5\n",
      "Recall     86.8\n",
      "Accuracy   85.4\n",
      "\n",
      "Evaluation with pos label = neg\n",
      "===============================\n",
      "Precision  86.4\n",
      "Recall     84.1\n",
      "Accuracy   85.4\n"
     ]
    },
    {
     "data": {
      "text/plain": [
       "(0.86398191904664068, 0.84099999999999997, 0.85429999999999995)"
      ]
     },
     "execution_count": 136,
     "metadata": {},
     "output_type": "execute_result"
    }
   ],
   "source": [
    "preds_logreg = logreg.predict(X_test)\n",
    "\n",
    "print(confusion_matrix(y_test, preds_logreg))\n",
    "print('\\n')\n",
    "#print(classification_report(y_test, preds_logreg))\n",
    "\n",
    "\n",
    "pos_guesses = [p for p in preds_logreg if p== 'pos']\n",
    "pos_actual = [p for p in y_test if p== 'pos']\n",
    "print 'Note that {:.1%} of our classifier guesses were positive'.format(float(len(pos_guesses))/len(y_test))\n",
    "print 'While {:.1%} of the reviews were actually positive'.format(float(len(pos_actual))/len(y_test))\n",
    "do_evaluation (zip(preds_logreg,y_test), pos_label= 'pos', verbose=True)\n",
    "do_evaluation (zip(preds_logreg,y_test), pos_label= 'neg', verbose=True)"
   ]
  },
  {
   "cell_type": "markdown",
   "metadata": {
    "deletable": true,
    "editable": true
   },
   "source": [
    "## Plotting ROC curve and AUC to evaluate classifier's performance"
   ]
  },
  {
   "cell_type": "markdown",
   "metadata": {
    "deletable": true,
    "editable": true
   },
   "source": [
    "**ROC Curve:**\n",
    "\n",
    "ROC curve is plotted to see how sensitivity and specificity are affected by various thresholds, without actually changing the threshold.\n",
    "\n",
    "ROC curve can help you to choose a threshold that balances sensitivity and specificity in a way that makes sense for your particular context.\n",
    "\n",
    "We can't actually see the thresholds used to generate the curve on the ROC curve itself.\n",
    "\n",
    "** AUC Curve:**\n",
    "\n",
    "AUC is the percentage of the ROC plot that is underneath the curve:\n",
    "\n",
    "AUC is useful as a single number summary of classifier performance\n",
    "\n",
    "Higher value = better classifier\n",
    "\n",
    "If you randomly chose one positive and one negative observation, AUC represents the likelihood that your classifier will assign a higher predicted probability to the positive observation\n",
    "\n",
    "AUC is useful even when there is high class imbalance (unlike classification accuracy)"
   ]
  },
  {
   "cell_type": "markdown",
   "metadata": {
    "deletable": true,
    "editable": true
   },
   "source": [
    "## ROC and AUC plot for Multinomial Naive Bayes Classifier"
   ]
  },
  {
   "cell_type": "code",
   "execution_count": 137,
   "metadata": {
    "collapsed": false,
    "deletable": true,
    "editable": true
   },
   "outputs": [
    {
     "data": {
      "image/png": "[encoded data removed]",
      "text/plain": [
       "<matplotlib.figure.Figure at 0x167c56d8>"
      ]
     },
     "metadata": {},
     "output_type": "display_data"
    }
   ],
   "source": [
    "# Converting pos and neg labels to 1 and 0 respectively\n",
    "y_test_for_roc = [1 if i == 'pos' else 0 for i in y_test]\n",
    "preds_for_roc_mnb = [1 if i == 'pos' else 0 for i in preds]\n",
    "\n",
    "#Calculating False Positive Rate,True Positive Rate and threshold\n",
    "fpr_mnb, tpr_mnb, _ = metrics.roc_curve(y_test_for_roc, preds_for_roc_mnb)\n",
    "roc_auc_mnb = metrics.auc(fpr_mnb, tpr_mnb)\n",
    "#AUC is the percentage of the ROC plot that is underneath the curve:\n",
    "\n",
    "plt.title('Receiver Operating Characteristic for Multinomial Naive Bayes Classifier')\n",
    "plt.plot(fpr_mnb, tpr_mnb, 'b', label = 'AUC = %0.2f' % roc_auc_mnb)\n",
    "plt.legend(loc = 'lower right')\n",
    "plt.plot([0, 1], [0, 1],'r--')\n",
    "plt.xlim([0, 1])\n",
    "plt.ylim([0, 1])\n",
    "plt.ylabel('True Positive Rate')\n",
    "plt.xlabel('False Positive Rate')\n",
    "plt.show()\n"
   ]
  },
  {
   "cell_type": "markdown",
   "metadata": {
    "deletable": true,
    "editable": true
   },
   "source": [
    "## ROC and AUC plot for Bernoulli Naive Bayes Classifier"
   ]
  },
  {
   "cell_type": "code",
   "execution_count": 138,
   "metadata": {
    "collapsed": false,
    "deletable": true,
    "editable": true
   },
   "outputs": [
    {
     "data": {
      "image/png": "[encoded data removed]",
      "text/plain": [
       "<matplotlib.figure.Figure at 0x16680860>"
      ]
     },
     "metadata": {},
     "output_type": "display_data"
    }
   ],
   "source": [
    "# Converting pos and neg labels to 1 and 0 respectively\n",
    "\n",
    "y_test_for_roc = [1 if i == 'pos' else 0 for i in y_test]\n",
    "preds_bnb_for_roc = [1 if i == 'pos' else 0 for i in preds_bnb]\n",
    "\n",
    "#Calculating False Positive Rate,True Positive Rate and threshold\n",
    "fpr_bnb, tpr_bnb, _ = metrics.roc_curve(y_test_for_roc, preds_bnb_for_roc)\n",
    "roc_auc_bnb = metrics.auc(fpr_bnb, tpr_bnb)\n",
    "\n",
    "#import matplotlib.pyplot as plt\n",
    "plt.title('Receiver Operating Characteristic for Bernoulli Naive Bayes')\n",
    "plt.plot(fpr_bnb, tpr_bnb, 'b', label = 'AUC = %0.2f' % roc_auc_bnb)\n",
    "plt.legend(loc = 'lower right')\n",
    "plt.plot([0, 1], [0, 1],'r--')\n",
    "plt.xlim([0, 1])\n",
    "plt.ylim([0, 1])\n",
    "plt.ylabel('True Positive Rate')\n",
    "plt.xlabel('False Positive Rate')\n",
    "plt.show()"
   ]
  },
  {
   "cell_type": "markdown",
   "metadata": {
    "deletable": true,
    "editable": true
   },
   "source": [
    "## ROC and AUC plot for Linear Support Vector Classifier"
   ]
  },
  {
   "cell_type": "code",
   "execution_count": 139,
   "metadata": {
    "collapsed": false,
    "deletable": true,
    "editable": true
   },
   "outputs": [
    {
     "data": {
      "image/png": "[encoded data removed]",
      "text/plain": [
       "<matplotlib.figure.Figure at 0x15998cf8>"
      ]
     },
     "metadata": {},
     "output_type": "display_data"
    }
   ],
   "source": [
    "# Converting pos and neg labels to 1 and 0 respectively\n",
    "#Calculating False Positive Rate,True Positive Rate and threshold\n",
    "y_test_for_roc = [1 if i == 'pos' else 0 for i in y_test]\n",
    "preds_linearsvc_for_roc = [1 if i == 'pos' else 0 for i in preds_linearsvc]\n",
    "\n",
    "#Calculating False Positive Rate,True Positive Rate and threshold\n",
    "fpr_lsvc, tpr_lsvc, _ = metrics.roc_curve(y_test_for_roc, preds_linearsvc_for_roc)\n",
    "roc_auc_lsvc = metrics.auc(fpr_lsvc, tpr_lsvc)\n",
    "\n",
    "#import matplotlib.pyplot as plt\n",
    "plt.title('Receiver Operating Characteristic for Linear Support Vector Machine')\n",
    "plt.plot(fpr_lsvc, tpr_lsvc, 'b', label = 'AUC = %0.2f' % roc_auc_lsvc)\n",
    "plt.legend(loc = 'lower right')\n",
    "plt.plot([0, 1], [0, 1],'r--')\n",
    "plt.xlim([0, 1])\n",
    "plt.ylim([0, 1])\n",
    "plt.ylabel('True Positive Rate')\n",
    "plt.xlabel('False Positive Rate')\n",
    "plt.show()"
   ]
  },
  {
   "cell_type": "markdown",
   "metadata": {
    "deletable": true,
    "editable": true
   },
   "source": [
    "## ROC and AUC plot for Logistic Regression Classifier"
   ]
  },
  {
   "cell_type": "code",
   "execution_count": 140,
   "metadata": {
    "collapsed": false,
    "deletable": true,
    "editable": true
   },
   "outputs": [
    {
     "data": {
      "image/png": "[encoded data removed]",
      "text/plain": [
       "<matplotlib.figure.Figure at 0x18aac320>"
      ]
     },
     "metadata": {},
     "output_type": "display_data"
    }
   ],
   "source": [
    "# Converting pos and neg labels to 1 and 0 respectively\n",
    "\n",
    "y_test_for_roc = [1 if i == 'pos' else 0 for i in y_test]\n",
    "preds_logreg_for_roc = [1 if i == 'pos' else 0 for i in preds_linearsvc]\n",
    "\n",
    "#Calculating False Positive Rate,True Positive Rate and threshold\n",
    "fpr_logreg, tpr_logreg, _ = metrics.roc_curve(y_test_for_roc, preds_logreg_for_roc)\n",
    "roc_auc_logreg = metrics.auc(fpr_logreg, tpr_logreg)\n",
    "\n",
    "#import matplotlib.pyplot as plt\n",
    "plt.title('Receiver Operating Characteristic for Logistic Regression')\n",
    "plt.plot(fpr_logreg, tpr_logreg, 'b', label = 'AUC = %0.2f' % roc_auc_logreg)\n",
    "plt.legend(loc = 'lower right')\n",
    "plt.plot([0, 1], [0, 1],'r--')\n",
    "plt.xlim([0, 1])\n",
    "plt.ylim([0, 1])\n",
    "plt.ylabel('True Positive Rate')\n",
    "plt.xlabel('False Positive Rate')\n",
    "plt.show()"
   ]
  },
  {
   "cell_type": "markdown",
   "metadata": {
    "deletable": true,
    "editable": true
   },
   "source": [
    "Here, we can see that the Bernoulli Naive Bayes Classifier has the highest value of AUC of 84%, we can conclude that **Bernoulli Naive Bayes Classifier is relatively better model which can be used to perform sentiment analysis on Amazon Reviews.**"
   ]
  },
  {
   "cell_type": "code",
   "execution_count": null,
   "metadata": {
    "collapsed": true,
    "deletable": true,
    "editable": true
   },
   "outputs": [],
   "source": []
  }
 ],
 "metadata": {
  "kernelspec": {
   "display_name": "Python 2",
   "language": "python",
   "name": "python2"
  },
  "language_info": {
   "codemirror_mode": {
    "name": "ipython",
    "version": 2
   },
   "file_extension": ".py",
   "mimetype": "text/x-python",
   "name": "python",
   "nbconvert_exporter": "python",
   "pygments_lexer": "ipython2",
   "version": "2.7.13"
  },
  "toc": {
   "colors": {
    "hover_highlight": "#DAA520",
    "running_highlight": "#FF0000",
    "selected_highlight": "#FFD700"
   },
   "moveMenuLeft": true,
   "nav_menu": {
    "height": "444px",
    "width": "252px"
   },
   "navigate_menu": true,
   "number_sections": true,
   "sideBar": true,
   "threshold": 4,
   "toc_cell": false,
   "toc_section_display": "block",
   "toc_window_display": false,
   "widenNotebook": false
  }
 },
 "nbformat": 4,
 "nbformat_minor": 2
}
